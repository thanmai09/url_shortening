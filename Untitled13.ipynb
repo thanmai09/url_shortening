{
  "nbformat": 4,
  "nbformat_minor": 0,
  "metadata": {
    "colab": {
      "provenance": [],
      "authorship_tag": "ABX9TyOA1ImPGMKrMF9WXVf08cCt",
      "include_colab_link": true
    },
    "kernelspec": {
      "name": "python3",
      "display_name": "Python 3"
    },
    "language_info": {
      "name": "python"
    }
  },
  "cells": [
    {
      "cell_type": "markdown",
      "metadata": {
        "id": "view-in-github",
        "colab_type": "text"
      },
      "source": [
        "<a href=\"https://colab.research.google.com/github/thanmai09/url_shortening/blob/main/Untitled13.ipynb\" target=\"_parent\"><img src=\"https://colab.research.google.com/assets/colab-badge.svg\" alt=\"Open In Colab\"/></a>"
      ]
    },
    {
      "cell_type": "code",
      "execution_count": 5,
      "metadata": {
        "colab": {
          "base_uri": "https://localhost:8080/"
        },
        "id": "69D246cuiQ3j",
        "outputId": "7e9fabdc-13c1-467c-996d-599f659748d0"
      },
      "outputs": [
        {
          "output_type": "stream",
          "name": "stdout",
          "text": [
            "Requirement already satisfied: pyshorteners in /usr/local/lib/python3.11/dist-packages (1.0.1)\n",
            "Requirement already satisfied: requests in /usr/local/lib/python3.11/dist-packages (from pyshorteners) (2.32.3)\n",
            "Requirement already satisfied: charset-normalizer<4,>=2 in /usr/local/lib/python3.11/dist-packages (from requests->pyshorteners) (3.4.1)\n",
            "Requirement already satisfied: idna<4,>=2.5 in /usr/local/lib/python3.11/dist-packages (from requests->pyshorteners) (3.10)\n",
            "Requirement already satisfied: urllib3<3,>=1.21.1 in /usr/local/lib/python3.11/dist-packages (from requests->pyshorteners) (2.3.0)\n",
            "Requirement already satisfied: certifi>=2017.4.17 in /usr/local/lib/python3.11/dist-packages (from requests->pyshorteners) (2024.12.14)\n"
          ]
        }
      ],
      "source": [
        "pip install pyshorteners"
      ]
    },
    {
      "cell_type": "code",
      "source": [
        "import pyshorteners\n",
        "def short_url(url):\n",
        "    s = pyshorteners.Shortener()\n",
        "    short_url = s.tinyurl.short(url)\n",
        "    return short_url\n",
        "\n",
        "url_data = \"https://colab.research.google.com/drive/1JZgBG39Mkx3J1dVP1DkYHGx7lmu9ITIM?authuser=0#scrollTo=skwU7pCbifcB\"\n",
        "print(short_url(url_data))"
      ],
      "metadata": {
        "colab": {
          "base_uri": "https://localhost:8080/"
        },
        "id": "skwU7pCbifcB",
        "outputId": "1f8bc5ab-8caa-40dd-d9d2-fa2c73e3d39b"
      },
      "execution_count": 6,
      "outputs": [
        {
          "output_type": "stream",
          "name": "stdout",
          "text": [
            "https://tinyurl.com/239su5kt\n"
          ]
        }
      ]
    },
    {
      "cell_type": "code",
      "source": [
        "import pyshorteners\n",
        "def short_url(url):\n",
        "    s = pyshorteners.Shortener()\n",
        "    short_url = s.tinyurl.short(url)\n",
        "    return short_url\n",
        "\n",
        "url_data = \"https://github.com/thanmai09\"\n",
        "print(short_url(url_data))"
      ],
      "metadata": {
        "colab": {
          "base_uri": "https://localhost:8080/"
        },
        "id": "fK5nwSsfjkzk",
        "outputId": "26f5e19c-d76e-4c28-87e8-d0911608702b"
      },
      "execution_count": 7,
      "outputs": [
        {
          "output_type": "stream",
          "name": "stdout",
          "text": [
            "https://tinyurl.com/28lccob4\n"
          ]
        }
      ]
    }
  ]
}